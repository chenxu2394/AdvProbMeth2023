{
 "cells": [
  {
   "cell_type": "markdown",
   "metadata": {
    "deletable": false,
    "editable": false,
    "nbgrader": {
     "cell_type": "markdown",
     "checksum": "d887fb93479d9888d5cf6be82f0c2e09",
     "grade": false,
     "grade_id": "cell-81c5a400584e4a8f",
     "locked": true,
     "schema_version": 3,
     "solution": false,
     "task": false
    }
   },
   "source": [
    "## CS-E4820 Machine Learning: Advanced Probabilistic Methods (Spring 2023)\n",
    "\n",
    "Pekka Marttinen, Vishnu Raj, Antti Pöllänen, Nikitin Alexander, Sebastiaan De Peuter, Tommi Gröhn, Julien Martinelli, Ali Khoshvishkaie, Onur Poyraz\n",
    "\n",
    "\n",
    "## Exercise 3, due on Tuesday 14th February at 23:50.\n",
    "\n",
    "### Contents\n",
    "1. Problem 1: Poisson-Gamma\n",
    "2. Problem 2: Multivariate Gaussian\n",
    "3. Problem 3: Posterior of regression weights"
   ]
  },
  {
   "cell_type": "markdown",
   "metadata": {
    "deletable": false,
    "editable": false,
    "nbgrader": {
     "cell_type": "markdown",
     "checksum": "38bb2e5ebde49e1760a076b099d6e5a6",
     "grade": false,
     "grade_id": "cell-573bbaa2ef327be0",
     "locked": true,
     "points": 2,
     "schema_version": 3,
     "solution": false,
     "task": true
    }
   },
   "source": [
    "## Problem 1: Poisson-Gamma\n",
    "\n",
    "Suppose you have $N$ i.i.d. observations $\\mathbf{x}= \\{x_i\\}_{i=1}^N$ from a $\\operatorname{Poisson}(\\lambda)$ distribution with a rate parameter $\\lambda$ that has a conjugate prior \n",
    "\n",
    "$$\\lambda \\sim \\operatorname{Gamma}(a,b)$$\n",
    "\n",
    "with the shape and rate hyperparameters $a$ and $b$. Derive the posterior distribution $\\lambda|\\bf{x}$.\n",
    "\n",
    "Write your solutions in LateX or attach a picture in the answer cell provided below. You can add a picture using the command ```!(imagename_in_the_folder.jpg)```. Latex in here works similarly as you would write it normally! You can use some of the definitions from the exercise description as a reference. The list of valid Latex commands in Jypyter notebook can be found here: http://www.onemathematicalcat.org/MathJaxDocumentation/TeXSyntax.htm\n",
    "\n",
    "\n"
   ]
  },
  {
   "cell_type": "markdown",
   "metadata": {},
   "source": [
    "YOUR ANSWER HERE\n",
    "\\begin{align*}\n",
    "    p(\\lambda\\mid\\mathbf{x}) &\\propto p(\\mathbf{x}\\mid\\lambda)p(\\lambda)\\\\\n",
    "    &=Poisson(\\lambda)Gamma(a,b)\\\\\n",
    "    &=\\prod_i{(\\frac{1}{x_i!}e^{-\\lambda}(\\lambda)^{x_i})}\\times \\frac{b^a}{\\Gamma(a)}(\\lambda)^{a-1}e^{-b\\lambda}\\\\\n",
    "    &=\\prod_i{(\\frac{1}{x_i!})}e^{-\\lambda N}(\\lambda)^{\\sum_i{x_i}}\\times \\frac{b^a}{\\Gamma(a)}(\\lambda)^{a-1}e^{-b\\lambda}\\\\\n",
    "    &\\propto e^{-\\lambda N}(\\lambda)^{\\sum_i{x_i}}\\times (\\lambda)^{a-1}e^{-b\\lambda}\\\\\n",
    "    &= (\\lambda)^{(a+\\sum_i{x_i})-1}e^{-(b+N)\\lambda}\\\\\n",
    "    &\\sim Gamma(a+\\sum_i{x_i}, b+N)\n",
    "\\end{align*}"
   ]
  },
  {
   "cell_type": "markdown",
   "metadata": {
    "deletable": false,
    "editable": false,
    "nbgrader": {
     "cell_type": "markdown",
     "checksum": "c2d1bd8470ba33c5aa2596654e3cefbc",
     "grade": false,
     "grade_id": "cell-7fdfccb96ae5c3d1",
     "locked": true,
     "points": 2,
     "schema_version": 3,
     "solution": false,
     "task": true
    }
   },
   "source": [
    "## Problem 2: Multivariate Gaussian\n",
    "\n",
    "Suppose we have $N$ i.i.d. observations $\\mathbf{X} = \\{\\mathbf{x}_i\\}_{i=1}^N$ from a multivariate Gaussian distribution $$\\mathbf{x}_i \\mid \\boldsymbol{\\mu} \\sim \\mathcal{N}(\\boldsymbol{\\mu}, \\boldsymbol{\\Sigma})$$ with unknown mean parameter $\\boldsymbol{\\mu}$  and a known covariance matrix $\\boldsymbol{\\Sigma}$. As prior information on the mean parameter we have $$ \\boldsymbol{\\mu} \\sim \\mathcal{N}(\\mathbf{m_0}, \\mathbf{S_0}). $$\n",
    "\n",
    "__(a)__ Derive the posterior distribution $p(\\boldsymbol{\\mu}|\\mathbf{X})$ of the mean parameter $\\boldsymbol{\\mu}$. Write your solution in LateX or attach a picture of the solution in the cell below.\n",
    "\n",
    "__(b)__ Compare the Bayesian estimate (posterior mean) to the maximum likelihood estimate by generating $N=10$ observations from the bivariate Gaussian \n",
    "        $$\\mathcal{N}\\left(\\begin{bmatrix}0 \\\\ 0\\end{bmatrix}, \\begin{bmatrix}1 & 0 \\\\ 0 & 1\\end{bmatrix}\\right).$$\n",
    "For this you can use the Python function [numpy.random.normal](https://docs.scipy.org/doc/numpy/reference/generated/numpy.random.normal.html), making use of the fact that the elements of the bivariate random vectors are independent. In the Bayesian case, use the prior with $\\mathbf{m_0} = [0,0]^T$ and $\\mathbf{S_0} = [\\begin{smallmatrix}0.1 & 0 \\\\ 0 & 0.1\\end{smallmatrix}]$. Report both estimates. Is the Bayesian estimate closer to the true value $\\boldsymbol{\\mu} = [0,0]^T$? Use the code template given below (after the answer cell) to complete your answer.\n",
    "\n",
    "Write your solutions to __(a)__ and __(b)__ in LateX or attach a picture in the answer cell provided below. \n",
    "\n"
   ]
  },
  {
   "cell_type": "markdown",
   "metadata": {},
   "source": [
    "YOUR ANSWER HERE\n",
    "\\begin{align*}\n",
    "    p(\\mathbf{\\mu}\\mid\\mathbf{X}) &\\propto p(\\mathbf{X}\\mid\\mathbf{\\mu})p(\\mathbf{\\mu})\\\\\n",
    "    &\\propto \\prod_i{exp\\left(-\\frac{1}{2}{(\\mathbf{x}_i-\\mathbf{\\mu})^T}\\mathbf{\\Sigma}^{-1}(\\mathbf{x}_i-\\mathbf{\\mu})\\right)} \\times exp\\left(-\\frac{1}{2}{(\\mathbf{\\mu}-\\mathbf{m_0})^T}\\mathbf{S_0}^{-1}(\\mathbf{\\mu}-\\mathbf{m_0})\\right)\\\\\n",
    "    &= {exp\\left(-\\frac{1}{2}\\sum_i{(\\mathbf{x}_i-\\mathbf{\\mu})^T\\mathbf{\\Sigma}^{-1}(\\mathbf{x}_i-\\mathbf{\\mu})}\\right)} \\times exp\\left(-\\frac{1}{2}{(\\mathbf{\\mu}-\\mathbf{m_0})^T}\\mathbf{S_0}^{-1}(\\mathbf{\\mu}-\\mathbf{m_0})\\right)\\\\\n",
    "    &= exp\\left(-\\frac{1}{2}\\sum_i{\\left[(\\mathbf{x}_i-\\mathbf{\\mu})^T\\mathbf{\\Sigma}^{-1}(\\mathbf{x}_i-\\mathbf{\\mu})\\right]}-\\frac{1}{2}{(\\mathbf{\\mu}-\\mathbf{m_0})^T}\\mathbf{S_0}^{-1}(\\mathbf{\\mu}-\\mathbf{m_0})\\right)\\\\\n",
    "    &\\propto exp\\left(-\\frac{1}{2}\\left[\\sum_i{\\left[\\mathbf{\\mu}^T\\mathbf{\\Sigma}^{-1}\\mathbf{\\mu}\\right]}-2(\\sum_i{\\mathbf{x}_i})^T\\mathbf{\\Sigma}^{-1}\\mathbf{\\mu}+{\\mathbf{\\mu}^T}\\mathbf{S_0}^{-1}\\mathbf{\\mu}-2\\mathbf{m_0}^T\\mathbf{S_0}^{-1}\\mathbf{\\mu}\\right]\\right)\\\\\n",
    "    &= exp\\left(-\\frac{1}{2}{\\mathbf{\\mu}^T (N\\mathbf{\\Sigma}^{-1}+\\mathbf{S_0}^{-1})\\mathbf{\\mu}}+\\left[(\\sum_i{\\mathbf{x}_i})^T\\mathbf{\\Sigma}^{-1}+\\mathbf{m_0}^T\\mathbf{S}_0^{-1}\\right]\\mathbf{\\mu}\\right)\\\\\n",
    "    &= exp\\left(-\\frac{1}{2}{\\mathbf{\\mu}^T (N\\mathbf{\\Sigma}^{-1}+\\mathbf{S_0}^{-1})\\mathbf{\\mu}}+\\left[\\mathbf{\\Sigma}^{-1}(\\sum_i{\\mathbf{x}_i})+\\mathbf{S}_0^{-1}\\mathbf{m_0}\\right]^T\\mathbf{\\mu}\\right)\\\\\n",
    "    {Let}\\\\\n",
    "    \\mathbf{S} &= (N\\mathbf{\\Sigma}^{-1}+\\mathbf{S_0}^{-1})^{-1}\\\\\n",
    "    \\mathbf{b} &= \\mathbf{\\Sigma}^{-1}(\\sum_i{\\mathbf{x}_i})+\\mathbf{S}_0^{-1}\\mathbf{m_0}\\\\\n",
    "    {Then}\\\\\n",
    "    p(\\mathbf{\\mu}\\mid\\mathbf{X}) &\\propto \n",
    "    exp\\left(-\\frac{1}{2}{\\mathbf{\\mu}^T \\mathbf{S}^{-1} \\mathbf{\\mu}}+\\mathbf{b}^T\\mathbf{\\mu}\\right)\\\\\n",
    "    &=exp\\left(-\\frac{1}{2}{(\\mathbf{\\mu}-\\mathbf{S}\\mathbf{b})^T \\mathbf{S}^{-1} (\\mathbf{\\mu}-\\mathbf{S}\\mathbf{b})}+\\frac{1}{2}\\mathbf{b}^T\\mathbf{S}\\mathbf{b}\\right)\\\\\n",
    "    &\\sim \\mathcal{N}(\\mu\\mid\\mathbf{S}\\mathbf{b}, \\mathbf{S})\n",
    "\\end{align*}"
   ]
  },
  {
   "cell_type": "code",
   "execution_count": 43,
   "metadata": {
    "deletable": false,
    "nbgrader": {
     "cell_type": "code",
     "checksum": "af88913931d4649db8324917756a5b72",
     "grade": false,
     "grade_id": "cell-e6a09ef8bf1f72d3",
     "locked": false,
     "schema_version": 3,
     "solution": true,
     "task": false
    }
   },
   "outputs": [
    {
     "name": "stdout",
     "output_type": "stream",
     "text": [
      "Bayesian estimate is closer to the true value\n",
      "[0.32107967 0.11409345]\n",
      "[0.16053984 0.05704672]\n"
     ]
    }
   ],
   "source": [
    "# template for 2(b)\n",
    "import numpy as np\n",
    "from numpy.linalg import inv\n",
    "\n",
    "S0 = np.array([[0.1, 0],[0, 0.1]])\n",
    "Sigma = np.array([[1, 0],[0, 1]])\n",
    "N = 10\n",
    "\n",
    "# Sample N bivariate normal vectors\n",
    "# compute MLE and also the posterior mean solution\n",
    "x = np.random.normal(size=(N,2)) #EXERCISE\n",
    "mle = np.mean(x, axis=0) #EXERCISE\n",
    "S = inv(N*inv(Sigma)+inv(S0))\n",
    "m0 = np.array([0,0])\n",
    "b = inv(Sigma)@np.sum(x,axis=0)+inv(S0)@m0\n",
    "posterior_mean = S@b #EXERCISE \n",
    "if [abs(p)<abs(m) for p,m in zip(posterior_mean, mle)]:\n",
    "    print('Bayesian estimate is closer to the true value')\n",
    "# YOUR CODE HERE\n",
    "# raise NotImplementedError()\n",
    "\n",
    "print(mle)\n",
    "print(posterior_mean)\n"
   ]
  },
  {
   "cell_type": "markdown",
   "metadata": {
    "deletable": false,
    "editable": false,
    "nbgrader": {
     "cell_type": "markdown",
     "checksum": "ddf1e85bf2fabec6a07c3676a5945499",
     "grade": false,
     "grade_id": "cell-6f265c79745ea700",
     "locked": true,
     "points": 2,
     "schema_version": 3,
     "solution": false,
     "task": true
    }
   },
   "source": [
    "# Problem 3: Posterior of regression weights\n",
    "\n",
    "Suppose $y_{i}=\\mathbf{w}^{T}\\mathbf{x}_{i}+\\epsilon_{i},$ for $i=1,\\ldots,n,$ where $\\epsilon_{i}\\sim \\mathcal{N}(0,\\beta^{-1})$. Assume a prior $$\\mathbf{w} \\sim \\mathcal{N} (\\mathbf{0},\\alpha^{-1}\\mathbf{I}).$$ Use 'completing the square' to show that the posterior of $\\mathbf{w}$ is given by $p(\\mathbf{w} \\mid \\mathbf{y}, \\mathbf{x}, \\alpha, \\beta)=\\mathcal{N}(\\mathbf{w} \\mid \\mathbf{m}, \\mathbf{S}),$ where \n",
    "\\begin{align*}\n",
    "    \\mathbf{S} &= \\left( \\alpha \\mathbf{I} + \\beta \\sum_{i=1}^n \\mathbf{x}_i \\mathbf{x}_i^T \\right)^{-1}\\;, \\\\\n",
    "    \\mathbf{m} &= \\beta \\mathbf{S} \\sum_{i=1}^{n} y_i \\mathbf{x}_i.\n",
    "\\end{align*}\n",
    "\n",
    "Write your solution in LateX or attach a picture of the solution in the cell below.\n"
   ]
  },
  {
   "cell_type": "markdown",
   "metadata": {},
   "source": [
    "\\begin{align*}\n",
    "    p(y_i\\mid\\mathbf{w},\\mathbf{x},\\alpha,\\beta) &= \\mathcal{N}(y_i|\\mathbf{w}^{T}\\mathbf{x}_i, \\beta^{-1}) \\propto exp(-\\frac{\\beta}{2}[y_i-\\mathbf{w}^{T}\\mathbf{x}_i]^2)\\\\\n",
    "    \\Rightarrow p(\\mathbf{w} \\mid \\mathbf{y}, \\mathbf{x}, \\alpha, \\beta)&\\propto p(\\mathbf{y} \\mid \\mathbf{w}, \\mathbf{x}, \\alpha, \\beta)p(\\mathbf{w} \\mid \\mathbf{x}, \\alpha, \\beta)\\\\\n",
    "    &\\propto\\prod_i {p(y_i \\mid \\mathbf{w}, \\mathbf{x}, \\alpha, \\beta)}\\times exp(-\\frac{\\alpha}{2}\\mathbf{w}^{T}\\mathbf{w})\\\\\n",
    "    &=\\prod_i {exp(-\\frac{\\beta}{2}[y_i-\\mathbf{w}^{T}\\mathbf{x}_i]^2)}\\times exp(-\\frac{\\alpha}{2}\\mathbf{w}^{T}\\mathbf{w})\\\\\n",
    "    &=exp(\\sum_i{-\\frac{\\beta}{2}[y_i-\\mathbf{w}^{T}\\mathbf{x}_i]^2})\\times exp(-\\frac{\\alpha}{2}\\mathbf{w}^{T}\\mathbf{w})\\\\\n",
    "    &=exp(-\\frac{\\alpha}{2}\\mathbf{w}^{T}\\mathbf{w}-\\frac{\\beta}{2}\\sum_i{[y_i-\\mathbf{w}^{T}\\mathbf{x}_i]^2})\\\\    \n",
    "    &=exp(-\\frac{\\alpha}{2}\\mathbf{w}^{T}\\mathbf{w}-\\frac{\\beta}{2}\\sum_i{[y_i^2-2y_i\\mathbf{w}^{T}\\mathbf{x}_i+\\mathbf{w}^{T}\\mathbf{x}_i\\mathbf{w}^{T}\\mathbf{x}_i}])\\\\    \n",
    "    &=exp(-\\frac{1}{2}\\mathbf{w}^{T}(\\alpha\\mathbf{I}+\\beta\\sum_i{\\mathbf{x}_i\\mathbf{x}_i^T})\\mathbf{w}+\\beta y_i   (\\sum_i{\\mathbf{x}_i})^T\\mathbf{w}-\\frac{\\beta}{2}\\sum_i{y_i^2})\\\\\n",
    "    {Let}\\\\\n",
    "    \\mathbf{S} &= \\left( \\alpha \\mathbf{I} + \\beta \\sum_{i=1}^n \\mathbf{x}_i \\mathbf{x}_i^T \\right)^{-1}\\;, \\\\\n",
    "    \\mathbf{m} &= \\beta \\mathbf{S} \\sum_{i=1}^{n} y_i \\mathbf{x}_i.\\\\\n",
    "    {Then}\\\\\n",
    "    p(\\mathbf{w} \\mid \\mathbf{y}, \\mathbf{x}, \\alpha, \\beta)&\\propto exp(-\\frac{1}{2}\\mathbf{w}^{T}\\mathbf{S}^{-1}\\mathbf{w}+   (\\mathbf{S}^{-1}\\mathbf{m})^T\\mathbf{w})\\\\\n",
    "    &=exp(-\\frac{1}{2}(\\mathbf{w}-\\mathbf{m})^T\\mathbf{S}^{-1}(\\mathbf{w}-\\mathbf{m})+\\frac{1}{2} (\\mathbf{S}^{-1}\\mathbf{m})^T \\mathbf{S} (\\mathbf{S}^{-1}\\mathbf{m}) )\\\\\n",
    "    &\\sim \\mathcal{N}(\\mathbf{w}\\mid \\mathbf{m}, \\mathbf{S})\n",
    "\\end{align*}\n"
   ]
  },
  {
   "cell_type": "code",
   "execution_count": null,
   "metadata": {},
   "outputs": [],
   "source": []
  }
 ],
 "metadata": {
  "kernelspec": {
   "display_name": "Python 3",
   "language": "python",
   "name": "python3"
  },
  "language_info": {
   "codemirror_mode": {
    "name": "ipython",
    "version": 3
   },
   "file_extension": ".py",
   "mimetype": "text/x-python",
   "name": "python",
   "nbconvert_exporter": "python",
   "pygments_lexer": "ipython3",
   "version": "3.9.5"
  },
  "varInspector": {
   "cols": {
    "lenName": 16,
    "lenType": 16,
    "lenVar": 40
   },
   "kernels_config": {
    "python": {
     "delete_cmd_postfix": "",
     "delete_cmd_prefix": "del ",
     "library": "var_list.py",
     "varRefreshCmd": "print(var_dic_list())"
    },
    "r": {
     "delete_cmd_postfix": ") ",
     "delete_cmd_prefix": "rm(",
     "library": "var_list.r",
     "varRefreshCmd": "cat(var_dic_list()) "
    }
   },
   "types_to_exclude": [
    "module",
    "function",
    "builtin_function_or_method",
    "instance",
    "_Feature"
   ],
   "window_display": false
  }
 },
 "nbformat": 4,
 "nbformat_minor": 4
}
